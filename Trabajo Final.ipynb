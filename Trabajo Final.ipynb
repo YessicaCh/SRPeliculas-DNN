{
 "cells": [
  {
   "cell_type": "code",
   "execution_count": 1,
   "metadata": {},
   "outputs": [
    {
     "ename": "ModuleNotFoundError",
     "evalue": "No module named 'tensorflow'",
     "output_type": "error",
     "traceback": [
      "\u001b[0;31m---------------------------------------------------------------------------\u001b[0m",
      "\u001b[0;31mModuleNotFoundError\u001b[0m                       Traceback (most recent call last)",
      "\u001b[0;32m<ipython-input-1-c7273cff3de0>\u001b[0m in \u001b[0;36m<module>\u001b[0;34m\u001b[0m\n\u001b[1;32m      4\u001b[0m \u001b[0;32mfrom\u001b[0m \u001b[0msklearn\u001b[0m\u001b[0;34m.\u001b[0m\u001b[0mrandom_projection\u001b[0m \u001b[0;32mimport\u001b[0m \u001b[0msparse_random_matrix\u001b[0m\u001b[0;34m\u001b[0m\u001b[0;34m\u001b[0m\u001b[0m\n\u001b[1;32m      5\u001b[0m \u001b[0;32mfrom\u001b[0m \u001b[0msklearn\u001b[0m\u001b[0;34m.\u001b[0m\u001b[0mdecomposition\u001b[0m \u001b[0;32mimport\u001b[0m \u001b[0mTruncatedSVD\u001b[0m\u001b[0;34m\u001b[0m\u001b[0;34m\u001b[0m\u001b[0m\n\u001b[0;32m----> 6\u001b[0;31m \u001b[0;32mfrom\u001b[0m \u001b[0mtensorflow\u001b[0m\u001b[0;34m.\u001b[0m\u001b[0mkeras\u001b[0m\u001b[0;34m.\u001b[0m\u001b[0mmodels\u001b[0m \u001b[0;32mimport\u001b[0m \u001b[0mSequential\u001b[0m\u001b[0;34m\u001b[0m\u001b[0;34m\u001b[0m\u001b[0m\n\u001b[0m\u001b[1;32m      7\u001b[0m \u001b[0;32mfrom\u001b[0m \u001b[0mtensorflow\u001b[0m\u001b[0;34m.\u001b[0m\u001b[0mkeras\u001b[0m\u001b[0;34m.\u001b[0m\u001b[0mlayers\u001b[0m \u001b[0;32mimport\u001b[0m \u001b[0mDense\u001b[0m\u001b[0;34m\u001b[0m\u001b[0;34m\u001b[0m\u001b[0m\n\u001b[1;32m      8\u001b[0m \u001b[0;31m#X = sparse_random(100, 100, density=0.01, format='csr',random_state=42)\u001b[0m\u001b[0;34m\u001b[0m\u001b[0;34m\u001b[0m\u001b[0;34m\u001b[0m\u001b[0m\n",
      "\u001b[0;31mModuleNotFoundError\u001b[0m: No module named 'tensorflow'"
     ]
    }
   ],
   "source": [
    "import pandas as pd\n",
    "import numpy as np\n",
    "from scipy.sparse import random as sparse_random\n",
    "from sklearn.random_projection import sparse_random_matrix\n",
    "from sklearn.decomposition import TruncatedSVD\n",
    "import keras \n",
    "from keras.models import Sequential \n",
    "from keras.layers import Dense\n",
    "#from tensorflow.keras.models import Sequential\n",
    "#from tensorflow.keras.layers import Dense\n",
    "#X = sparse_random(100, 100, density=0.01, format='csr',random_state=42)\n",
    "#svd = TruncatedSVD(n_components=5, n_iter=7, random_state=42)\n",
    "#svd.fit(X)\n",
    "dataset  = [\"movies\",\n",
    "            \"ratings\",\n",
    "            \"users\"]\n",
    "header_movies = [\"movie_id,movie,genres\"]\n",
    "header_ratings = [\"user_id\",\"movie_id\",\"rating\",\"timestamp\"]\n",
    "header_users = [\"user_id\",\"gender\",\"age\",\"occupation\",\"zip_code\"]\n"
   ]
  },
  {
   "cell_type": "code",
   "execution_count": null,
   "metadata": {},
   "outputs": [],
   "source": [
    "def LeerDatos(filename : str, separa : str, header = True):\n",
    "    if (header):\n",
    "        data = pd.read_csv(filename + \".csv\", sep =separa, header = 0)\n",
    "    else:\n",
    "        data = pd.read_csv(filename+ \".csv\", sep = separa, header = None)\n",
    "    return data.to_numpy()"
   ]
  },
  {
   "cell_type": "code",
   "execution_count": null,
   "metadata": {},
   "outputs": [],
   "source": [
    "def GenerarW( num_capas : int, dim_capas = []):\n",
    "    W = {}\n",
    "    for i in range(0,num_capas+1):\n",
    "        if (i == 0):\n",
    "            temp = np.random.randn( dim_capas[i], dim_capas[i+1] )\n",
    "            W[i] = temp\n",
    "        if (i != 0):\n",
    "            temp = np.random.randn( dim_capas[i]+1, dim_capas[i+1] )\n",
    "            W[i] = temp       \n",
    "    return W"
   ]
  },
  {
   "cell_type": "code",
   "execution_count": null,
   "metadata": {},
   "outputs": [],
   "source": [
    "def Sigmoidal(X:np.array, theta:np.array):\n",
    "    pot = X.dot(theta)\n",
    "    return 1/(1+ np.exp(-pot))"
   ]
  },
  {
   "cell_type": "code",
   "execution_count": null,
   "metadata": {},
   "outputs": [],
   "source": [
    "def Forward (X: np.array, W : {}): \n",
    "    A = {}\n",
    "    h_l = X\n",
    "    A[0] = h_l\n",
    "    for i in range(0, len(W)):\n",
    "        if (i == len(W)-1):\n",
    "            h_l = Sigmoidal(h_l, W[i])\n",
    "        else:\n",
    "            h_l = Sigmoidal(h_l, W[i])\n",
    "            bias = np.ones( (np.size(h_l[:,0]),1) )\n",
    "            h_l = np.hstack( (bias,h_l) )\n",
    "     \n",
    "        A[i+1] = h_l   \n",
    "    return A"
   ]
  },
  {
   "cell_type": "code",
   "execution_count": null,
   "metadata": {},
   "outputs": [],
   "source": [
    "# Rpuv\n",
    "def calculate_Rpuv(n,m,a,b,W,U,V,z,p,q):\n",
    "    Rpuv = np.empty((n,m))\n",
    "    for u in range(0,n):\n",
    "        for v in range(0,m):\n",
    "            #Sumatoria\n",
    "            sum  = 0\n",
    "            for ai in range(0,a):\n",
    "                for bj in range(0,b):\n",
    "                    sum = sum + W[ai,bj]*U[u,ai]*V[v,bj]\n",
    "            Rpuv[u,v] = z + p[u] + q[v] + sum\n",
    "    return Rpuv"
   ]
  },
  {
   "cell_type": "code",
   "execution_count": null,
   "metadata": {},
   "outputs": [],
   "source": [
    "\n",
    "def calculate_DIFuv(R, Rpuv):\n",
    "    #DIFuv = δuv (R̂uv − Ruv)\n",
    "    DIFuv = Rpuv - R\n",
    "    \n",
    "    n = R.shape[0]\n",
    "    m = R.shape[1]\n",
    "    for i in range(0,n):\n",
    "        for j in range(0,m):\n",
    "            if R[i,j]==0:\n",
    "                DIFuv[i,j]= DIFuv[i,j]*0\n",
    "    \n",
    "    return DIFuv"
   ]
  },
  {
   "cell_type": "code",
   "execution_count": null,
   "metadata": {},
   "outputs": [],
   "source": [
    "def random_(a,b):\n",
    "    U = np.random.random((a,b))\n",
    "    return U"
   ]
  },
  {
   "cell_type": "code",
   "execution_count": null,
   "metadata": {},
   "outputs": [],
   "source": [
    "def Feature_Representation(R,ηp,iter):\n",
    "    n = R.shape[0]\n",
    "    m = R.shape[1]\n",
    "\n",
    "    a = R.shape[1]\n",
    "    b = R.shape[0]\n",
    "    η = ηp#np.random.randn() \n",
    "    #Randon Initialize z, p, q, U, V, W;\n",
    "    U = random_(n,a)#np.random.random((n,a))\n",
    "    V = random_(m,b)\n",
    "\n",
    "    z = np.random.randn()\n",
    "    p = np.random.randn(n)\n",
    "    q = np.random.randn(m)\n",
    "    W = random_(a,b)\n",
    "\n",
    "    #Calculate 1 according to Eq.(24); \n",
    "        #Rpuv = z + pu + qv + WijUuiVvj\n",
    "\n",
    "    #REPEAT\n",
    "    for k in range(0,iter):\n",
    "        # Rpuv\n",
    "        Rpuv = calculate_Rpuv(n,m,a,b,W,U,V,z,p,q)\n",
    "\n",
    "        #DIFuv = δuv (R̂uv − Ruv).\n",
    "        DIFuv = calculate_DIFuv(R, Rpuv,mat)\n",
    "\n",
    "        #z = z − η sumatoria1uv\n",
    "        sum = np.sum(DIFuv)\n",
    "        z = z - η * sum\n",
    "\n",
    "        sumColDIF = np.sum(DIFuv, axis=1)\n",
    "        #pu = pu − η X1 uv ,\n",
    "        p = p - η*sumColDIF\n",
    "        #Update U u according to Eq.(22);\n",
    "        SWi  = np.sum(W, axis=0)\n",
    "        SVi  = np.sum(V, axis=0)\n",
    "        tem  = np.dot(SWi,SVi)\n",
    "        temp = np.dot(sumColDIF,tem)\n",
    "        temp = η*temp\n",
    "\n",
    "        for u in range(0,n):\n",
    "            for i in range(0,a):\n",
    "                U[u,i]    = U[u,i] - temp[u]\n",
    "\n",
    "\n",
    "        sumColDIFv = np.sum(DIFuv, axis=0)\n",
    "        #qv = qv − η X1 uv ,\n",
    "        q = q - η*sumColDIFv\n",
    "        #Update U u according to Eq.(22);\n",
    "        SWj = np.sum(W, axis=1)\n",
    "        SVj = np.sum(V, axis=1)\n",
    "        t   = np.dot(SWj,SVj)\n",
    "        tmp = np.dot(sumColDIFv,t)\n",
    "\n",
    "        for v in range(0,m):\n",
    "            for j in range(0,b):\n",
    "                V[v,j]    = V[v,j] - η*tmp[v]\n",
    "\n",
    "            #V   = V - η*tmp\n",
    "\n",
    "        #Update W according # W = np.random.random((a, b)) recordar sum\n",
    "        SUui = np.sum(W, axis=0)\n",
    "        SVvj = np.sum(W, axis=1)\n",
    "        for i in range(0,a):\n",
    "            for j in range(0,b):\n",
    "                W[i,j] = W[i,j]-n*(sum*SUui[j]*SVvj[i])\n",
    "\n",
    "    return (U,V)\n",
    "\n",
    "\n"
   ]
  },
  {
   "cell_type": "code",
   "execution_count": null,
   "metadata": {},
   "outputs": [],
   "source": [
    "# Main"
   ]
  },
  {
   "cell_type": "code",
   "execution_count": null,
   "metadata": {},
   "outputs": [],
   "source": [
    "rating = LeerDatos(dataset[1],',')\n",
    "rating.shape\n",
    "rating[100000,0]#Indice de fila "
   ]
  },
  {
   "cell_type": "code",
   "execution_count": null,
   "metadata": {},
   "outputs": [],
   "source": [
    "Rat = np.zeros((670,3953))\n",
    "δuv = np.full((670,3953), 0)\n",
    "for i in range(100000):\n",
    "    Rat[rating[i,0],rating[i,1]] = rating[i,2]\n",
    "    δuv[rating[i,0],rating[i,1]] = 1\n",
    "    \n",
    "Rat.shape #(670, 3953) Userx Item (n,m)\n",
    "\n",
    "\n",
    "R = np.zeros((50,100))\n",
    "for i in range(0,50):\n",
    "    for j in range(0,100):\n",
    "        R[i,j]=Rat[i,j]\n",
    "        \n",
    "\n",
    "# SINGULAR VALUE DECOMPOSITION\n",
    "#svd = TruncatedSVD(n_components=600, n_iter=100, random_state=42)\n",
    "#svd.fit(R)\n",
    "#print(svd.singular_values_)\n",
    "print(Rat)\n"
   ]
  },
  {
   "cell_type": "code",
   "execution_count": null,
   "metadata": {},
   "outputs": [],
   "source": [
    "print(R)"
   ]
  },
  {
   "cell_type": "code",
   "execution_count": null,
   "metadata": {},
   "outputs": [],
   "source": [
    "ηp = 0.1\n",
    "itera = 3\n",
    "U,V = Feature_Representation(R,ηp,itera)"
   ]
  },
  {
   "cell_type": "code",
   "execution_count": null,
   "metadata": {},
   "outputs": [],
   "source": [
    "print()"
   ]
  },
  {
   "cell_type": "code",
   "execution_count": null,
   "metadata": {},
   "outputs": [],
   "source": [
    "#Feature_Representation"
   ]
  },
  {
   "cell_type": "code",
   "execution_count": null,
   "metadata": {},
   "outputs": [],
   "source": [
    "n = R.shape[0]\n",
    "m = R.shape[1]\n",
    "\n",
    "a = R.shape[1]\n",
    "b = R.shape[0]\n",
    "η = ηp#np.random.randn() \n",
    "#Randon Initialize z, p, q, U, V, W;\n",
    "U = random_(n,a)#np.random.random((n,a))\n",
    "V = random_(m,b)\n",
    "\n",
    "z = np.random.randn()\n",
    "p = np.random.randn(n)\n",
    "q = np.random.randn(m)\n",
    "W = random_(a,b)#np.random.random((a, b))\n",
    "\n",
    "#Calculate 1 according to Eq.(24); \n",
    "    #Rpuv = z + pu + qv + WijUuiVvj\n",
    "for k in range(0,1):\n",
    "        # Rpuv\n",
    "        #print(\"iteracion\",k)\n",
    "    \n",
    "        Rpuv = calculate_Rpuv(n,m,a,b,W,U,V,z,p,q)\n",
    "        \n",
    "        #DIFuv = δuv (R̂uv − Ruv).\n",
    "        DIFuv = calculate_DIFuv(R, Rpuv)\n",
    "        #print(\"DIFuv\")\n",
    "        #print(DIFuv)\n",
    "\n",
    "        #z = z − η sumatoria1uv\n",
    "        sum = np.sum(DIFuv)\n",
    "        z = z - η * sum\n",
    "\n",
    "        sumColDIF = np.sum(DIFuv, axis=1)\n",
    "        #pu = pu − η X1 uv ,\n",
    "        p = p - η*sumColDIF\n",
    "        #Update U u according to Eq.(22);\n",
    "        SWi  = np.sum(W, axis=0)\n",
    "        SVi  = np.sum(V, axis=0)\n",
    "        tem  = np.dot(SWi,SVi)\n",
    "        temp = np.dot(sumColDIF,tem)\n",
    "        temp = η*temp\n",
    "        \n",
    "        sumColDIFv = np.sum(DIFuv, axis=0)\n",
    "        #qv = qv − η X1 uv ,\n",
    "        q = q - η*sumColDIFv\n",
    "        #Update U u according to Eq.(22);\n",
    "        SWj = np.sum(W, axis=1)\n",
    "        SVj = np.sum(V, axis=1)\n",
    "        t   = np.dot(SWj,SVj)\n",
    "        tmp = np.dot(sumColDIFv,t)\n",
    "\n",
    "        #for v in range(0,m):\n",
    "            #for j in range(0,b):\n",
    "                #V[v,j]    = V[v,j] - η*tmp[v]\n",
    "\n",
    "            #V   = V - η*tmp\n",
    "\n",
    "        #Update W according # W = np.random.random((a, b)) recordar sum\n",
    "        SUui = np.sum(W, axis=0)\n",
    "        SVvj = np.sum(W, axis=1)\n",
    "        for i in range(0,a):\n",
    "            for j in range(0,b):\n",
    "                W[i,j] = W[i,j]-n*(sum*SUui[j]*SVvj[i])\n"
   ]
  },
  {
   "cell_type": "code",
   "execution_count": null,
   "metadata": {},
   "outputs": [],
   "source": [
    "U.shape #(50, 100)\n",
    "V.shape #(100, 50)\n"
   ]
  },
  {
   "cell_type": "code",
   "execution_count": null,
   "metadata": {},
   "outputs": [],
   "source": [
    "# Tranpuesta\n",
    "Vp = V.T\n",
    "Vp.shape"
   ]
  },
  {
   "cell_type": "code",
   "execution_count": null,
   "metadata": {},
   "outputs": [],
   "source": [
    "#Concatenar \n",
    "input_shape = U.shape[1]\n"
   ]
  },
  {
   "cell_type": "code",
   "execution_count": 4,
   "metadata": {},
   "outputs": [],
   "source": [
    "from sklearn.preprocessing import LabelEncoder, OneHotEncoder\n",
    "from sklearn.model_selection import train_test_split\n",
    "#X_train, X_test, y_train, y_test = train_test_split(X, y, test_size = 0.2)\n",
    "#labelencoder_X_1 = LabelEncoder() \n",
    "#X[:,1] = labelencoder_X_1.fit_transform(X[:,1]) \n",
    "#labelencoder_X_2 = LabelEncoder() \n",
    "#X[:, 2] = labelencoder_X_2.fit_transform(X[:, 2])"
   ]
  },
  {
   "cell_type": "code",
   "execution_count": 5,
   "metadata": {},
   "outputs": [
    {
     "ename": "ModuleNotFoundError",
     "evalue": "No module named 'keras'",
     "output_type": "error",
     "traceback": [
      "\u001b[0;31m---------------------------------------------------------------------------\u001b[0m",
      "\u001b[0;31mModuleNotFoundError\u001b[0m                       Traceback (most recent call last)",
      "\u001b[0;32m<ipython-input-5-a6e8d7abb450>\u001b[0m in \u001b[0;36m<module>\u001b[0;34m\u001b[0m\n\u001b[0;32m----> 1\u001b[0;31m \u001b[0;32mimport\u001b[0m \u001b[0mkeras\u001b[0m\u001b[0;34m\u001b[0m\u001b[0;34m\u001b[0m\u001b[0m\n\u001b[0m\u001b[1;32m      2\u001b[0m \u001b[0;32mfrom\u001b[0m \u001b[0mkeras\u001b[0m\u001b[0;34m.\u001b[0m\u001b[0mmodels\u001b[0m \u001b[0;32mimport\u001b[0m \u001b[0mSequential\u001b[0m\u001b[0;34m\u001b[0m\u001b[0;34m\u001b[0m\u001b[0m\n\u001b[1;32m      3\u001b[0m \u001b[0;32mfrom\u001b[0m \u001b[0mkeras\u001b[0m\u001b[0;34m.\u001b[0m\u001b[0mlayers\u001b[0m \u001b[0;32mimport\u001b[0m \u001b[0mDense\u001b[0m\u001b[0;34m\u001b[0m\u001b[0;34m\u001b[0m\u001b[0m\n",
      "\u001b[0;31mModuleNotFoundError\u001b[0m: No module named 'keras'"
     ]
    }
   ],
   "source": [
    "import keras \n",
    "from keras.models import Sequential \n",
    "from keras.layers import Dense"
   ]
  },
  {
   "cell_type": "code",
   "execution_count": null,
   "metadata": {},
   "outputs": [],
   "source": [
    "# Create the model\n",
    "model = Sequential()\n",
    "model.add(Dense(a+b, input_shape=input_shape, activation='relu'))\n",
    "model.add(Dense(a+b, activation='relu'))\n",
    "model.add(Dense(num_classes, activation='softmax'))\n",
    "# Compiling Neural Network \n",
    "classifier.compile(optimizer = 'adam', loss = 'binary_crossentropy', metrics = ['accuracy'])"
   ]
  },
  {
   "cell_type": "code",
   "execution_count": null,
   "metadata": {},
   "outputs": [],
   "source": []
  }
 ],
 "metadata": {
  "kernelspec": {
   "display_name": "Python 3",
   "language": "python",
   "name": "python3"
  },
  "language_info": {
   "codemirror_mode": {
    "name": "ipython",
    "version": 3
   },
   "file_extension": ".py",
   "mimetype": "text/x-python",
   "name": "python",
   "nbconvert_exporter": "python",
   "pygments_lexer": "ipython3",
   "version": "3.8.3"
  }
 },
 "nbformat": 4,
 "nbformat_minor": 4
}
